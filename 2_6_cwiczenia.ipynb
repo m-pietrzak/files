{
 "cells": [
  {
   "cell_type": "markdown",
   "id": "29349ee9",
   "metadata": {},
   "source": [
    "# 2.6 Ćwiczenia – Pandas zamiast Excela\n",
    "Poznasz, jak wyrazić popularne funkcje Excela w Pythonie.\n",
    "\n",
    "### Start: wygeneruj dane\n",
    "Uruchom komórkę poniżej, aby stworzyć DataFrame `kredyty` z 100 przykładowymi transakcjami."
   ]
  },
  {
   "cell_type": "code",
   "execution_count": null,
   "id": "6a06c394",
   "metadata": {},
   "outputs": [],
   "source": [
    "\n",
    "import numpy as np\n",
    "import pandas as pd\n",
    "\n",
    "np.random.seed(42)  # dla powtarzalności\n",
    "\n",
    "kredyty = pd.DataFrame({\n",
    "    \"ID_Transakcji\": range(1, 101),\n",
    "    \"ID_Klienta\": np.random.randint(1000, 1100, 100),\n",
    "    \"Data\": pd.to_datetime(np.random.choice(\n",
    "        pd.date_range(\"2025-01-01\", \"2025-04-30\"), 100)),\n",
    "    \"Kwota\": np.random.randint(5_000, 200_001, 100),\n",
    "    \"Typ_Kredytu\": np.random.choice(\n",
    "        [\"Hipoteczny\", \"Samochodowy\", \"Gotówkowy\", \"Karta Kredytowa\"], 100),\n",
    "    \"Region\": np.random.choice(\n",
    "        [\"Północ\", \"Południe\", \"Wschód\", \"Zachód\"], 100),\n",
    "    \"Status\": np.random.choice(\n",
    "        [\"Zatwierdzony\", \"Odrzucony\"], 100)\n",
    "})\n",
    "\n",
    "kredyty.head()\n"
   ]
  },
  {
   "cell_type": "markdown",
   "id": "1f1cb07e",
   "metadata": {},
   "source": [
    "## Zadania\n",
    "Uzupełnij kod w komórkach `# TODO`. Pod każdym zadaniem znajdziesz pustą komórkę na swoje rozwiązanie."
   ]
  },
  {
   "cell_type": "markdown",
   "id": "c2e562cb",
   "metadata": {},
   "source": [
    "### 1️ SUMIF\n",
    "Oblicz łączną **Kwota** dla `Typ_Kredytu == 'Hipoteczny'`."
   ]
  },
  {
   "cell_type": "code",
   "execution_count": null,
   "id": "28d9b775",
   "metadata": {},
   "outputs": [],
   "source": [
    "# TODO: wpisz rozwiązanie tutaj\n"
   ]
  },
  {
   "cell_type": "markdown",
   "id": "9d48a930",
   "metadata": {},
   "source": [
    "### 2️ COUNTIF\n",
    "Zlicz transakcje, gdzie `Region == 'Północ'`."
   ]
  },
  {
   "cell_type": "code",
   "execution_count": null,
   "id": "8d0c0067",
   "metadata": {},
   "outputs": [],
   "source": [
    "# TODO: wpisz rozwiązanie tutaj\n"
   ]
  },
  {
   "cell_type": "markdown",
   "id": "59288367",
   "metadata": {},
   "source": [
    "### 3️ SUMIF wielokryterialny\n",
    "Suma `Kwota` dla `Region == 'Zachód'` **i** `Status == 'Zatwierdzony'`."
   ]
  },
  {
   "cell_type": "code",
   "execution_count": null,
   "id": "22e94a7e",
   "metadata": {},
   "outputs": [],
   "source": [
    "# TODO: wpisz rozwiązanie tutaj\n"
   ]
  },
  {
   "cell_type": "markdown",
   "id": "e05ee606",
   "metadata": {},
   "source": [
    "### 4️ Filtr + sortowanie\n",
    "Wyświetl transakcje z **dni 1–10 każdego miesiąca**, posortowane malejąco po `Kwota`."
   ]
  },
  {
   "cell_type": "code",
   "execution_count": null,
   "id": "a3ba5186",
   "metadata": {},
   "outputs": [],
   "source": [
    "# TODO: wpisz rozwiązanie tutaj\n"
   ]
  },
  {
   "cell_type": "markdown",
   "id": "b7e4036b",
   "metadata": {},
   "source": [
    "### 5️ Agregacja miesięczna\n",
    "Podaj sumę `Kwota` dla każdego miesiąca (`Data`)."
   ]
  },
  {
   "cell_type": "code",
   "execution_count": null,
   "id": "4b313b6a",
   "metadata": {},
   "outputs": [],
   "source": [
    "# TODO: wpisz rozwiązanie tutaj\n"
   ]
  },
  {
   "cell_type": "markdown",
   "id": "3ed8195f",
   "metadata": {},
   "source": [
    "### 6️ Flaga wysokiej kwoty\n",
    "Dodaj kolumnę `Kwota_Flaga`: `'Wysoka'` jeśli `Kwota > 100_000`, w przeciwnym razie `'Niska'`."
   ]
  },
  {
   "cell_type": "code",
   "execution_count": null,
   "id": "17e83711",
   "metadata": {},
   "outputs": [],
   "source": [
    "# TODO: wpisz rozwiązanie tutaj\n"
   ]
  },
  {
   "cell_type": "markdown",
   "id": "a69c5a1c",
   "metadata": {},
   "source": [
    "### 7 Formatowanie warunkowe\n",
    "Podświetl cały wiersz na czerwono, gdy `Kwota_Flaga == 'Wysoka'` (użyj `DataFrame.style`)."
   ]
  },
  {
   "cell_type": "code",
   "execution_count": null,
   "id": "ba338caf",
   "metadata": {},
   "outputs": [],
   "source": [
    "# TODO: wpisz rozwiązanie tutaj\n"
   ]
  }
 ],
 "metadata": {
  "language_info": {
   "name": "python"
  }
 },
 "nbformat": 4,
 "nbformat_minor": 5
}
