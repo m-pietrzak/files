{
 "cells": [
  {
   "cell_type": "markdown",
   "id": "d16ca347",
   "metadata": {},
   "source": [
    "# Powtórzenie przed testem z Pythona\n",
    "\n",
    "Ten zeszyt zawiera **20 krótkich ćwiczeń** obejmujących zagadnienia, które pojawią się w teście.\n",
    "Najpierw spróbuj rozwiązać każde zadanie samodzielnie, a dopiero potem porównaj wyniki z rozwiązaniami w ostatniej części.\n",
    "W komórkach kodu oznaczonych `TODO` wpisz swój kod lub odpowiedź.\n"
   ]
  },
  {
   "cell_type": "markdown",
   "id": "f8fca3e8",
   "metadata": {},
   "source": [
    "### Ćwiczenie 1 – dodawanie liczb\n",
    "\n",
    "Oblicz wynik `2 + 3` i wyświetl go przy użyciu funkcji `print`."
   ]
  },
  {
   "cell_type": "code",
   "execution_count": null,
   "id": "a56d31eb",
   "metadata": {},
   "outputs": [],
   "source": [
    "# TODO: wpisz swoje rozwiązanie tutaj\n"
   ]
  },
  {
   "cell_type": "markdown",
   "id": "d1762386",
   "metadata": {},
   "source": [
    "### Ćwiczenie 2 – nazwy zmiennych\n",
    "\n",
    "Spróbuj utworzyć zmienną o nazwie `value_1` i przypisz jej liczbę 10. Nadpisz także komentarzem, dlaczego `1value` nie jest poprawną nazwą."
   ]
  },
  {
   "cell_type": "code",
   "execution_count": null,
   "id": "e7f18937",
   "metadata": {},
   "outputs": [],
   "source": [
    "# TODO: wpisz swoje rozwiązanie tutaj\n"
   ]
  },
  {
   "cell_type": "markdown",
   "id": "8740a76a",
   "metadata": {},
   "source": [
    "### Ćwiczenie 3 – funkcja `len`\n",
    "\n",
    "Użyj funkcji `len`, aby sprawdzić długość napisu `'abc'`. Wynik przypisz do zmiennej `length`."
   ]
  },
  {
   "cell_type": "code",
   "execution_count": null,
   "id": "24094162",
   "metadata": {},
   "outputs": [],
   "source": [
    "# TODO: wpisz swoje rozwiązanie tutaj\n"
   ]
  },
  {
   "cell_type": "markdown",
   "id": "4123b7e4",
   "metadata": {},
   "source": [
    "### Ćwiczenie 4 – listy\n",
    "\n",
    "Utwórz pustą listę `my_list` za pomocą odpowiednich nawiasów kwadratowych."
   ]
  },
  {
   "cell_type": "code",
   "execution_count": null,
   "id": "18e24a1d",
   "metadata": {},
   "outputs": [],
   "source": [
    "# TODO: wpisz swoje rozwiązanie tutaj\n"
   ]
  },
  {
   "cell_type": "markdown",
   "id": "03f448d7",
   "metadata": {},
   "source": [
    "### Ćwiczenie 5 – `print` z wieloma argumentami\n",
    "\n",
    "Wyświetl tekst `Hello World` korzystając z pojedynczego wywołania `print` z dwoma argumentami."
   ]
  },
  {
   "cell_type": "code",
   "execution_count": null,
   "id": "15a123e3",
   "metadata": {},
   "outputs": [],
   "source": [
    "# TODO: wpisz swoje rozwiązanie tutaj\n"
   ]
  },
  {
   "cell_type": "markdown",
   "id": "1aaed566",
   "metadata": {},
   "source": [
    "### Ćwiczenie 6 – kolejność działań\n",
    "\n",
    "Oblicz wartość wyrażenia `3 * (1 + 2)` i zapisz wynik w zmiennej `result`."
   ]
  },
  {
   "cell_type": "code",
   "execution_count": null,
   "id": "50db2f21",
   "metadata": {},
   "outputs": [],
   "source": [
    "# TODO: wpisz swoje rozwiązanie tutaj\n"
   ]
  },
  {
   "cell_type": "markdown",
   "id": "31d09697",
   "metadata": {},
   "source": [
    "### Ćwiczenie 7 – typ danych\n",
    "\n",
    "Ustal typ wartości `42` przy użyciu funkcji `type` i wyświetl wynik."
   ]
  },
  {
   "cell_type": "code",
   "execution_count": null,
   "id": "3f7359a1",
   "metadata": {},
   "outputs": [],
   "source": [
    "# TODO: wpisz swoje rozwiązanie tutaj\n"
   ]
  },
  {
   "cell_type": "markdown",
   "id": "3f178a24",
   "metadata": {},
   "source": [
    "### Ćwiczenie 8 – operator równości\n",
    "\n",
    "Sprawdź, czy liczby `5` i `5` są sobie równe, a wynik przypisz do zmiennej `is_equal`."
   ]
  },
  {
   "cell_type": "code",
   "execution_count": null,
   "id": "404e309c",
   "metadata": {},
   "outputs": [],
   "source": [
    "# TODO: wpisz swoje rozwiązanie tutaj\n"
   ]
  },
  {
   "cell_type": "markdown",
   "id": "2d21a9ad",
   "metadata": {},
   "source": [
    "### Ćwiczenie 9 – `append` na liście\n",
    "\n",
    "Utwórz listę `numbers = [1, 2, 3]`, a następnie dodaj element `4` na koniec listy metodą `.append`."
   ]
  },
  {
   "cell_type": "code",
   "execution_count": null,
   "id": "2809ce91",
   "metadata": {},
   "outputs": [],
   "source": [
    "# TODO: wpisz swoje rozwiązanie tutaj\n"
   ]
  },
  {
   "cell_type": "markdown",
   "id": "8c58fbb7",
   "metadata": {},
   "source": [
    "### Ćwiczenie 10 – operatory logiczne\n",
    "\n",
    "Wyświetl wynik wyrażenia `True and False`."
   ]
  },
  {
   "cell_type": "code",
   "execution_count": null,
   "id": "dd4aa8d4",
   "metadata": {},
   "outputs": [],
   "source": [
    "# TODO: wpisz swoje rozwiązanie tutaj\n"
   ]
  },
  {
   "cell_type": "markdown",
   "id": "be33978c",
   "metadata": {},
   "source": [
    "### Ćwiczenie 11 – `range` i pętla `for`\n",
    "\n",
    "Za pomocą funkcji `range` wypisz liczby 0, 1, 2 (każdą w nowej linii)."
   ]
  },
  {
   "cell_type": "code",
   "execution_count": null,
   "id": "1b0d6ab5",
   "metadata": {},
   "outputs": [],
   "source": [
    "# TODO: wpisz swoje rozwiązanie tutaj\n"
   ]
  },
  {
   "cell_type": "markdown",
   "id": "dc3d5d74",
   "metadata": {},
   "source": [
    "### Ćwiczenie 12 – łączenie napisów\n",
    "\n",
    "Połącz dwa napisy `'Py'` i `'thon'` w jedną całość i wyświetl wynik."
   ]
  },
  {
   "cell_type": "code",
   "execution_count": null,
   "id": "c0f5b1e9",
   "metadata": {},
   "outputs": [],
   "source": [
    "# TODO: wpisz swoje rozwiązanie tutaj\n"
   ]
  },
  {
   "cell_type": "markdown",
   "id": "c2910858",
   "metadata": {},
   "source": [
    "### Ćwiczenie 13 – instrukcja `break`\n",
    "\n",
    "Napisz pętlę `for`, która iteruje od 0 do 9, ale przerwie działanie po osiągnięciu wartości 3 (użyj `break`)."
   ]
  },
  {
   "cell_type": "code",
   "execution_count": null,
   "id": "3a1794a7",
   "metadata": {},
   "outputs": [],
   "source": [
    "# TODO: wpisz swoje rozwiązanie tutaj\n"
   ]
  },
  {
   "cell_type": "markdown",
   "id": "1823bf16",
   "metadata": {},
   "source": [
    "### Ćwiczenie 14 – funkcja `max`\n",
    "\n",
    "Znajdź największą liczbę w liście `[4, 1, 7]` przy pomocy funkcji `max`."
   ]
  },
  {
   "cell_type": "code",
   "execution_count": null,
   "id": "c5cec739",
   "metadata": {},
   "outputs": [],
   "source": [
    "# TODO: wpisz swoje rozwiązanie tutaj\n"
   ]
  },
  {
   "cell_type": "markdown",
   "id": "ceca9f3b",
   "metadata": {},
   "source": [
    "### Ćwiczenie 15 – komentarze\n",
    "\n",
    "Dodaj w komórce kodu jednolinijkowy komentarz wyjaśniający, co robi następna linia kodu."
   ]
  },
  {
   "cell_type": "code",
   "execution_count": null,
   "id": "ea4e7de3",
   "metadata": {},
   "outputs": [],
   "source": [
    "# TODO: wpisz swoje rozwiązanie tutaj\n"
   ]
  },
  {
   "cell_type": "markdown",
   "id": "49b5eb2f",
   "metadata": {},
   "source": [
    "### Ćwiczenie 16 – indeksowanie listy\n",
    "\n",
    "Dla listy `data = ['a', 'b', 'c']` przypisz pierwszy element do zmiennej `first_elem`."
   ]
  },
  {
   "cell_type": "code",
   "execution_count": null,
   "id": "187e3ff4",
   "metadata": {},
   "outputs": [],
   "source": [
    "# TODO: wpisz swoje rozwiązanie tutaj\n"
   ]
  },
  {
   "cell_type": "markdown",
   "id": "6abcff9a",
   "metadata": {},
   "source": [
    "### Ćwiczenie 17 – konwersja do bool\n",
    "\n",
    "Sprawdź wartość `bool(0)` i zapisz ją w zmiennej `zero_as_bool`."
   ]
  },
  {
   "cell_type": "code",
   "execution_count": null,
   "id": "d818e4f3",
   "metadata": {},
   "outputs": [],
   "source": [
    "# TODO: wpisz swoje rozwiązanie tutaj\n"
   ]
  },
  {
   "cell_type": "markdown",
   "id": "1d9631d9",
   "metadata": {},
   "source": [
    "### Ćwiczenie 18 – liczby 1 do 3\n",
    "\n",
    "Wyświetl liczby od 1 do 3 (włącznie) przy pomocy pętli `for`. Możesz użyć `range(1, 4)` lub innego sposobu."
   ]
  },
  {
   "cell_type": "code",
   "execution_count": null,
   "id": "b31a542d",
   "metadata": {},
   "outputs": [],
   "source": [
    "# TODO: wpisz swoje rozwiązanie tutaj\n"
   ]
  },
  {
   "cell_type": "markdown",
   "id": "9a00b54e",
   "metadata": {},
   "source": [
    "### Ćwiczenie 19 – operator `+=`\n",
    "\n",
    "Zadeklaruj zmienną `x = 5`, a następnie zwiększ jej wartość o 2, używając `+=`. Na końcu wyświetl `x`."
   ]
  },
  {
   "cell_type": "code",
   "execution_count": null,
   "id": "5f660cdb",
   "metadata": {},
   "outputs": [],
   "source": [
    "# TODO: wpisz swoje rozwiązanie tutaj\n"
   ]
  },
  {
   "cell_type": "markdown",
   "id": "838a5cd0",
   "metadata": {},
   "source": [
    "### Ćwiczenie 20 – import z modułu\n",
    "\n",
    "Zaimportuj funkcję `sqrt` z modułu `math` i policz pierwiastek kwadratowy z 9."
   ]
  },
  {
   "cell_type": "code",
   "execution_count": null,
   "id": "94741187",
   "metadata": {},
   "outputs": [],
   "source": [
    "# TODO: wpisz swoje rozwiązanie tutaj\n"
   ]
  },
  {
   "cell_type": "markdown",
   "id": "6a6bfbcb",
   "metadata": {},
   "source": [
    "## Rozwiązania"
   ]
  },
  {
   "cell_type": "code",
   "execution_count": null,
   "id": "f7679272",
   "metadata": {},
   "outputs": [],
   "source": [
    "# Rozwiązania zadań\n",
    "\n",
    "# 1\n",
    "print(2 + 3)  # 5\n",
    "\n",
    "# 2\n",
    "value_1 = 10\n",
    "# 1value = 10  # błąd składni, nazwa nie może zaczynać się od cyfry\n",
    "\n",
    "# 3\n",
    "length = len('abc')\n",
    "print(length)\n",
    "\n",
    "# 4\n",
    "my_list = []\n",
    "print(my_list)\n",
    "\n",
    "# 5\n",
    "print(\"Hello\", \"World\")\n",
    "\n",
    "# 6\n",
    "result = 3 * (1 + 2)\n",
    "print(result)\n",
    "\n",
    "# 7\n",
    "print(type(42))\n",
    "\n",
    "# 8\n",
    "is_equal = (5 == 5)\n",
    "print(is_equal)\n",
    "\n",
    "# 9\n",
    "numbers = [1, 2, 3]\n",
    "numbers.append(4)\n",
    "print(numbers)\n",
    "\n",
    "# 10\n",
    "print(True and False)\n",
    "\n",
    "# 11\n",
    "for i in range(3):\n",
    "    print(i)\n",
    "\n",
    "# 12\n",
    "print('Py' + 'thon')\n",
    "\n",
    "# 13\n",
    "for n in range(10):\n",
    "    if n == 3:\n",
    "        break\n",
    "    print(n)\n",
    "\n",
    "# 14\n",
    "print(max([4, 1, 7]))\n",
    "\n",
    "# 15\n",
    "# To jest komentarz: poniższa linia wypisze napis\n",
    "print(\"Komentarz pokazuje, co robi ta linia\")\n",
    "\n",
    "# 16\n",
    "data = ['a', 'b', 'c']\n",
    "first_elem = data[0]\n",
    "print(first_elem)\n",
    "\n",
    "# 17\n",
    "zero_as_bool = bool(0)\n",
    "print(zero_as_bool)\n",
    "\n",
    "# 18\n",
    "for n in range(1, 4):\n",
    "    print(n)\n",
    "\n",
    "# 19\n",
    "x = 5\n",
    "x += 2\n",
    "print(x)\n",
    "\n",
    "# 20\n",
    "from math import sqrt\n",
    "print(sqrt(9))\n"
   ]
  }
 ],
 "metadata": {},
 "nbformat": 4,
 "nbformat_minor": 5
}
