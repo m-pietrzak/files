{
 "cells": [
  {
   "cell_type": "markdown",
   "id": "a0e08f3c",
   "metadata": {},
   "source": [
    "# Instrukcje sterujące w Pythonie  \n",
    "### for / if / while  \n",
    "\n",
    "\n",
    "W tym notebooku:  \n",
    "1. Poznasz podstawowe konstrukcje sterujące `for`, `if`, `while`.  \n",
    "2. Zobaczysz, jak używać `break`, `continue` i `pass`.  \n",
    "3. Przećwiczysz pętle na przykładach z `pandas.DataFrame`.  \n",
    "4. W części warsztatowej zbudujesz pierwszy skrypt do **automatycznego oczyszczania danych**.  \n"
   ]
  },
  {
   "cell_type": "markdown",
   "id": "26c619e5",
   "metadata": {},
   "source": [
    "## 1. Pętla `for` – podstawy\n",
    "Pętla `for` pozwala przechodzić kolejno po elementach sekwencji (lista, krotka, string, itp.).\n",
    "W Excelu używał(a/e)ś formuł w kolumnach – w Pythonie tę samą powtarzalność osiągamy pętlami."
   ]
  },
  {
   "cell_type": "code",
   "execution_count": 1,
   "id": "92d878ce",
   "metadata": {},
   "outputs": [
    {
     "name": "stdout",
     "output_type": "stream",
     "text": [
      "Suma kwadratów: 55\n"
     ]
    }
   ],
   "source": [
    "# Prosty przykład pętli for\n",
    "liczby = [1, 2, 3, 4, 5]\n",
    "suma_kwadratow = 0\n",
    "\n",
    "for n in liczby:                 # dla każdego elementu listy\n",
    "    suma_kwadratow += n ** 2     # dodaj kwadrat bieżącej liczby\n",
    "print(f\"Suma kwadratów: {suma_kwadratow}\")"
   ]
  },
  {
   "cell_type": "code",
   "execution_count": 2,
   "id": "b0d0e9de",
   "metadata": {},
   "outputs": [
    {
     "name": "stdout",
     "output_type": "stream",
     "text": [
      "Kolumna 1: Produkt\n",
      "Kolumna 2: Sprzedaż\n",
      "Kolumna 3: Cena\n"
     ]
    }
   ],
   "source": [
    "# enumerate pozwala mieć jednocześnie indeks i wartość\n",
    "kolumny = ['Produkt', 'Sprzedaż', 'Cena']\n",
    "for idx, nazwa in enumerate(kolumny, start=1):\n",
    "    print(f\"Kolumna {idx}: {nazwa}\")"
   ]
  },
  {
   "cell_type": "markdown",
   "id": "6c470b6f",
   "metadata": {},
   "source": [
    "## 2. Instrukcja warunkowa `if`\n",
    "Pozwala wykonywać kod tylko wtedy, gdy warunek jest spełniony – podobnie do formuły `JEŻELI()` w Excelu."
   ]
  },
  {
   "cell_type": "code",
   "execution_count": null,
   "id": "143ff835",
   "metadata": {},
   "outputs": [
    {
     "name": "stdout",
     "output_type": "stream",
     "text": [
      "Zaliczone, ale warto poćwiczyć 🙂\n"
     ]
    }
   ],
   "source": [
    "# Przykład użycia if / elif / else\n",
    "ocena = 4  # spróbuj zmienić tę wartość\n",
    "if ocena >= 5:\n",
    "    print(\"Świetnie!\")\n",
    "elif ocena >= 3:\n",
    "    print(\"Zaliczone, ale warto poćwiczyć\")\n",
    "else:\n",
    "    print(\"Podejdź jeszcze raz – praktyka czyni mistrza!\")"
   ]
  },
  {
   "cell_type": "markdown",
   "id": "0a5c937d",
   "metadata": {},
   "source": [
    "## 3. Pętla `while`\n",
    "Pętla `while` powtarza blok kodu **dopóki** warunek jest prawdziwy."
   ]
  },
  {
   "cell_type": "code",
   "execution_count": 4,
   "id": "8ac629b0",
   "metadata": {},
   "outputs": [
    {
     "name": "stdout",
     "output_type": "stream",
     "text": [
      "Suma: 15\n"
     ]
    }
   ],
   "source": [
    "# Liczymy, aż suma przekroczy 15\n",
    "suma = 0\n",
    "n = 1\n",
    "while suma < 15:\n",
    "    suma += n\n",
    "    n += 1\n",
    "print(\"Suma:\", suma)"
   ]
  },
  {
   "cell_type": "markdown",
   "id": "02475086",
   "metadata": {},
   "source": [
    "## 4. `break`, `continue`, `pass`\n",
    "* `break` – natychmiast przerywa pętlę.\n",
    "* `continue` – pomija resztę bieżącej iteracji i przechodzi do następnej.\n",
    "* `pass` – \"placeholder\", nic nie robi – przydaje się, gdy składniowo **musi** być jakiś blok kodu."
   ]
  },
  {
   "cell_type": "code",
   "execution_count": 5,
   "id": "dd39074b",
   "metadata": {},
   "outputs": [
    {
     "name": "stdout",
     "output_type": "stream",
     "text": [
      "Znaleziono: 7\n",
      "Koniec pętli\n"
     ]
    }
   ],
   "source": [
    "# Szukamy pierwszej liczby podzielnej przez 7\n",
    "for i in range(1, 20):\n",
    "    if i % 2 == 0:\n",
    "        continue      # pomiń liczby parzyste\n",
    "    if i % 7 == 0:\n",
    "        print(\"Znaleziono:\", i)\n",
    "        break          # zakończ pętlę\n",
    "print(\"Koniec pętli\")"
   ]
  },
  {
   "cell_type": "markdown",
   "id": "8f82b001",
   "metadata": {},
   "source": [
    "## 5. Pętle w kontekście `pandas.DataFrame`\n",
    "Choć `pandas` zachęca do **wektoryzacji** (operacji bez pętli), czasem pętle są przydatne np. do logiki warunkowej."
   ]
  },
  {
   "cell_type": "code",
   "execution_count": 6,
   "id": "c93e1b04",
   "metadata": {},
   "outputs": [
    {
     "data": {
      "text/html": [
       "<div>\n",
       "<style scoped>\n",
       "    .dataframe tbody tr th:only-of-type {\n",
       "        vertical-align: middle;\n",
       "    }\n",
       "\n",
       "    .dataframe tbody tr th {\n",
       "        vertical-align: top;\n",
       "    }\n",
       "\n",
       "    .dataframe thead th {\n",
       "        text-align: right;\n",
       "    }\n",
       "</style>\n",
       "<table border=\"1\" class=\"dataframe\">\n",
       "  <thead>\n",
       "    <tr style=\"text-align: right;\">\n",
       "      <th></th>\n",
       "      <th>Produkt</th>\n",
       "      <th>Sprzedaż</th>\n",
       "      <th>Cena</th>\n",
       "    </tr>\n",
       "  </thead>\n",
       "  <tbody>\n",
       "    <tr>\n",
       "      <th>0</th>\n",
       "      <td>A</td>\n",
       "      <td>120.0</td>\n",
       "      <td>10.5</td>\n",
       "    </tr>\n",
       "    <tr>\n",
       "      <th>1</th>\n",
       "      <td>B</td>\n",
       "      <td>50.0</td>\n",
       "      <td>12.0</td>\n",
       "    </tr>\n",
       "    <tr>\n",
       "      <th>2</th>\n",
       "      <td>C</td>\n",
       "      <td>NaN</td>\n",
       "      <td>9.5</td>\n",
       "    </tr>\n",
       "    <tr>\n",
       "      <th>3</th>\n",
       "      <td>D</td>\n",
       "      <td>90.0</td>\n",
       "      <td>11.0</td>\n",
       "    </tr>\n",
       "  </tbody>\n",
       "</table>\n",
       "</div>"
      ],
      "text/plain": [
       "  Produkt  Sprzedaż  Cena\n",
       "0       A     120.0  10.5\n",
       "1       B      50.0  12.0\n",
       "2       C       NaN   9.5\n",
       "3       D      90.0  11.0"
      ]
     },
     "execution_count": 6,
     "metadata": {},
     "output_type": "execute_result"
    }
   ],
   "source": [
    "import pandas as pd\n",
    "\n",
    "df = pd.DataFrame({\n",
    "    'Produkt': ['A', 'B', 'C', 'D'],\n",
    "    'Sprzedaż': [120, 50, None, 90],\n",
    "    'Cena': [10.5, 12.0, 9.5, 11.0]\n",
    "})\n",
    "df"
   ]
  },
  {
   "cell_type": "markdown",
   "id": "36db9276",
   "metadata": {},
   "source": [
    "### `iterrows()` – wiersz po wierszu"
   ]
  },
  {
   "cell_type": "code",
   "execution_count": 7,
   "id": "1a765fa8",
   "metadata": {},
   "outputs": [
    {
     "name": "stdout",
     "output_type": "stream",
     "text": [
      "Wiersz 2: brakująca sprzedaż – sprawdź dane źródłowe!\n"
     ]
    }
   ],
   "source": [
    "for idx, row in df.iterrows():\n",
    "    if pd.isna(row['Sprzedaż']):\n",
    "        print(f\"Wiersz {idx}: brakująca sprzedaż – sprawdź dane źródłowe!\")"
   ]
  },
  {
   "cell_type": "markdown",
   "id": "7c85d16a",
   "metadata": {},
   "source": [
    "### Pętla `while` z indeksem (rzadko potrzebna, ale dobra do ćwiczeń)"
   ]
  },
  {
   "cell_type": "code",
   "execution_count": 8,
   "id": "37950ae8",
   "metadata": {},
   "outputs": [
    {
     "data": {
      "text/html": [
       "<div>\n",
       "<style scoped>\n",
       "    .dataframe tbody tr th:only-of-type {\n",
       "        vertical-align: middle;\n",
       "    }\n",
       "\n",
       "    .dataframe tbody tr th {\n",
       "        vertical-align: top;\n",
       "    }\n",
       "\n",
       "    .dataframe thead th {\n",
       "        text-align: right;\n",
       "    }\n",
       "</style>\n",
       "<table border=\"1\" class=\"dataframe\">\n",
       "  <thead>\n",
       "    <tr style=\"text-align: right;\">\n",
       "      <th></th>\n",
       "      <th>Produkt</th>\n",
       "      <th>Sprzedaż</th>\n",
       "      <th>Cena</th>\n",
       "    </tr>\n",
       "  </thead>\n",
       "  <tbody>\n",
       "    <tr>\n",
       "      <th>0</th>\n",
       "      <td>A</td>\n",
       "      <td>120.0</td>\n",
       "      <td>10.5</td>\n",
       "    </tr>\n",
       "    <tr>\n",
       "      <th>1</th>\n",
       "      <td>B</td>\n",
       "      <td>55.0</td>\n",
       "      <td>12.0</td>\n",
       "    </tr>\n",
       "    <tr>\n",
       "      <th>2</th>\n",
       "      <td>C</td>\n",
       "      <td>NaN</td>\n",
       "      <td>9.5</td>\n",
       "    </tr>\n",
       "    <tr>\n",
       "      <th>3</th>\n",
       "      <td>D</td>\n",
       "      <td>99.0</td>\n",
       "      <td>11.0</td>\n",
       "    </tr>\n",
       "  </tbody>\n",
       "</table>\n",
       "</div>"
      ],
      "text/plain": [
       "  Produkt  Sprzedaż  Cena\n",
       "0       A     120.0  10.5\n",
       "1       B      55.0  12.0\n",
       "2       C       NaN   9.5\n",
       "3       D      99.0  11.0"
      ]
     },
     "execution_count": 8,
     "metadata": {},
     "output_type": "execute_result"
    }
   ],
   "source": [
    "i = 0\n",
    "while i < len(df):\n",
    "    # jeśli sprzedaż mniejsza niż 100, podbij o 10 %\n",
    "    if df.loc[i, 'Sprzedaż'] is not None and df.loc[i, 'Sprzedaż'] < 100:\n",
    "        df.loc[i, 'Sprzedaż'] *= 1.1\n",
    "    i += 1\n",
    "df"
   ]
  },
  {
   "cell_type": "markdown",
   "id": "bf97cf4d",
   "metadata": {},
   "source": [
    "## 6. Warsztaty – automatyczne oczyszczanie danych\n",
    "Spróbuj napisać skrypt, który przygotuje dane do dalszej analizy. **Możesz użyć poniższego szablonu jako punktu wyjścia.**\n",
    "\n",
    "### Zadania:\n",
    "1. Wczytaj plik CSV (lub stwórz DataFrame z błędami).\n",
    "2. Usuń zduplikowane wiersze.\n",
    "3. Usuń wiersze z brakującą wartością w kolumnie `Cena`.\n",
    "4. Zastąp wartości `Sprzedaż < 0` medianą tej kolumny.\n",
    "5. Dodaj kolumnę `Przychód = Sprzedaż * Cena`.\n",
    "6. Zapisz wynik do nowego pliku CSV.\n",
    "\n",
    "### Podpowiedzi:\n",
    "* Użyj `pd.read_csv()` / `df.to_csv()`.\n",
    "* Sprawdź `df.duplicated()` i `df.drop_duplicates()`.\n",
    "* Braki danych? `df.dropna()` lub `df.fillna()`.\n",
    "* Medianę obliczysz przez `df['Sprzedaż'].median()`.\n",
    "* Pamiętaj o `if`, `for`, `while`, `break`, `continue` tam, gdzie mają sens!"
   ]
  },
  {
   "cell_type": "code",
   "execution_count": 9,
   "id": "f3820110",
   "metadata": {},
   "outputs": [
    {
     "data": {
      "text/html": [
       "<div>\n",
       "<style scoped>\n",
       "    .dataframe tbody tr th:only-of-type {\n",
       "        vertical-align: middle;\n",
       "    }\n",
       "\n",
       "    .dataframe tbody tr th {\n",
       "        vertical-align: top;\n",
       "    }\n",
       "\n",
       "    .dataframe thead th {\n",
       "        text-align: right;\n",
       "    }\n",
       "</style>\n",
       "<table border=\"1\" class=\"dataframe\">\n",
       "  <thead>\n",
       "    <tr style=\"text-align: right;\">\n",
       "      <th></th>\n",
       "      <th>Produkt</th>\n",
       "      <th>Sprzedaż</th>\n",
       "      <th>Cena</th>\n",
       "    </tr>\n",
       "  </thead>\n",
       "  <tbody>\n",
       "    <tr>\n",
       "      <th>0</th>\n",
       "      <td>A</td>\n",
       "      <td>120.0</td>\n",
       "      <td>10.5</td>\n",
       "    </tr>\n",
       "    <tr>\n",
       "      <th>1</th>\n",
       "      <td>B</td>\n",
       "      <td>-5.0</td>\n",
       "      <td>12.0</td>\n",
       "    </tr>\n",
       "    <tr>\n",
       "      <th>2</th>\n",
       "      <td>B</td>\n",
       "      <td>-5.0</td>\n",
       "      <td>12.0</td>\n",
       "    </tr>\n",
       "    <tr>\n",
       "      <th>3</th>\n",
       "      <td>C</td>\n",
       "      <td>NaN</td>\n",
       "      <td>9.5</td>\n",
       "    </tr>\n",
       "    <tr>\n",
       "      <th>4</th>\n",
       "      <td>D</td>\n",
       "      <td>90.0</td>\n",
       "      <td>NaN</td>\n",
       "    </tr>\n",
       "  </tbody>\n",
       "</table>\n",
       "</div>"
      ],
      "text/plain": [
       "  Produkt  Sprzedaż  Cena\n",
       "0       A     120.0  10.5\n",
       "1       B      -5.0  12.0\n",
       "2       B      -5.0  12.0\n",
       "3       C       NaN   9.5\n",
       "4       D      90.0   NaN"
      ]
     },
     "execution_count": 9,
     "metadata": {},
     "output_type": "execute_result"
    }
   ],
   "source": [
    "# --- SZABLON START --- #\n",
    "import pandas as pd\n",
    "\n",
    "# 1. Wczytaj dane\n",
    "# df = pd.read_csv('twoj_plik.csv')   # TODO: zmień ścieżkę\n",
    "df = pd.DataFrame({\n",
    "    'Produkt': ['A', 'B', 'B', 'C', 'D'],\n",
    "    'Sprzedaż': [120, -5, -5, None, 90],\n",
    "    'Cena': [10.5, 12.0, 12.0, 9.5, None]\n",
    "})\n",
    "\n",
    "# 2. Usuń zduplikowane wiersze\n",
    "# TODO: Twój kod tutaj\n",
    "\n",
    "# 3. Usuń wiersze z brakującą ceną\n",
    "# TODO: Twój kod tutaj\n",
    "\n",
    "# 4. Zamień ujemną sprzedaż na medianę\n",
    "# TODO: Twój kod tutaj\n",
    "\n",
    "# 5. Dodaj kolumnę 'Przychód'\n",
    "# TODO: Twój kod tutaj\n",
    "\n",
    "# 6. Zapisz do CSV\n",
    "# TODO: Twój kod tutaj\n",
    "\n",
    "# Wyświetl efekt\n",
    "df.head()\n",
    "# --- SZABLON END --- #"
   ]
  },
  {
   "cell_type": "markdown",
   "id": "7fce54e2",
   "metadata": {},
   "source": [
    "## 7. Podsumowanie\n",
    "* Poznałeś(aś) pętle `for` i `while`, instrukcję `if` oraz słowa kluczowe `break`, `continue`, `pass`.\n",
    "* Wiesz, jak iterować po `DataFrame` i gdzie lepiej unikać pętli.\n",
    "* Potrafisz stworzyć prosty skrypt do **oczyszczania danych**."
   ]
  }
 ],
 "metadata": {
  "kernelspec": {
   "display_name": "Kurs_Maj25",
   "language": "python",
   "name": "python3"
  },
  "language_info": {
   "codemirror_mode": {
    "name": "ipython",
    "version": 3
   },
   "file_extension": ".py",
   "mimetype": "text/x-python",
   "name": "python",
   "nbconvert_exporter": "python",
   "pygments_lexer": "ipython3",
   "version": "3.9.21"
  }
 },
 "nbformat": 4,
 "nbformat_minor": 5
}
