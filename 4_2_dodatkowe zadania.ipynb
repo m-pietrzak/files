{
 "cells": [
  {
   "cell_type": "markdown",
   "id": "ed99fc1d",
   "metadata": {},
   "source": [
    "# 4 . 2 . Warsztaty – szybkość **Pandas · Polars · Numba**\n",
    "\n",
    "Uruchom pierwszą komórkę, aby wygenerować dane. W każdym zadaniu:\n",
    "1. Wstaw kod w miejscu `# 👉`.\n",
    "2. Użyj `time.perf_counter()` do pomiaru czasu.\n",
    "3. Zanotuj wniosek."
   ]
  },
  {
   "cell_type": "code",
   "execution_count": null,
   "id": "89dcd87f",
   "metadata": {},
   "outputs": [],
   "source": [
    "import pandas as pd, numpy as np, polars as pl, numba as nb, time\n",
    "\n",
    "N = 5_000_000\n",
    "df_big = pd.DataFrame({\n",
    "    'id': np.arange(N, dtype=np.int32),\n",
    "    'value': np.random.randn(N).astype('float32'),\n",
    "    'category': np.random.choice(list('ABCD'), size=N)\n",
    "})\n",
    "\n",
    "pl_df = pl.from_pandas(df_big)\n",
    "print('Dane:', df_big.shape)"
   ]
  },
  {
   "cell_type": "markdown",
   "id": "60f09ac0",
   "metadata": {},
   "source": [
    "## Zadanie 1: Średnia value w kategoriach\n",
    "\n",
    "Oblicz średnią w Pandas i Polars, zmierz czasy.\n",
    "\n",
    "**Wskazówki:**\n",
    "- Pandas: `df_big.groupby('category', observed=True)['value'].mean()`\n",
    "- Polars: `pl_df.group_by('category').agg(pl.col('value').mean())`"
   ]
  },
  {
   "cell_type": "code",
   "execution_count": null,
   "id": "8ffe2a69",
   "metadata": {},
   "outputs": [],
   "source": [
    "# 👉 Twój kod tutaj\n"
   ]
  },
  {
   "cell_type": "markdown",
   "id": "0f28c7c3",
   "metadata": {},
   "source": [
    "## Zadanie 2: Sumowanie value: pętla, NumPy, Numba\n",
    "\n",
    "Porównaj trzy metody sumowania tablicy `value`.\n",
    "\n",
    "**Wskazówki:**\n",
    "- arr = df_big['value'].to_numpy()"
   ]
  },
  {
   "cell_type": "code",
   "execution_count": null,
   "id": "1e5f7918",
   "metadata": {},
   "outputs": [],
   "source": [
    "# 👉 Twój kod tutaj\n"
   ]
  },
  {
   "cell_type": "markdown",
   "id": "6f72194e",
   "metadata": {},
   "source": [
    "## Zadanie 3: Count w grupach\n",
    "\n",
    "Zlicz liczbę rekordów w każdej kategorii.\n",
    "\n",
    "**Wskazówki:**\n",
    "- Pandas `.count()` vs Polars `pl.count()`"
   ]
  },
  {
   "cell_type": "code",
   "execution_count": null,
   "id": "f34c388e",
   "metadata": {},
   "outputs": [],
   "source": [
    "# 👉 Twój kod tutaj\n"
   ]
  },
  {
   "cell_type": "markdown",
   "id": "072a3e45",
   "metadata": {},
   "source": [
    "## Zadanie 4: Std w grupach\n",
    "\n",
    "Odchylenie standardowe w każdej kategorii.\n",
    "\n",
    "**Wskazówki:**\n",
    "- Pandas `.std()`, Polars `pl.std()`"
   ]
  },
  {
   "cell_type": "code",
   "execution_count": null,
   "id": "cb07c2b6",
   "metadata": {},
   "outputs": [],
   "source": [
    "# 👉 Twój kod tutaj\n"
   ]
  },
  {
   "cell_type": "markdown",
   "id": "90f69e2d",
   "metadata": {},
   "source": [
    "## Zadanie 5: Odległość Haversine (1 mln operacji)\n",
    "\n",
    "Porównaj Python loop i Numba.\n",
    "\n",
    "**Wskazówki:**\n",
    "- Użyj losowych `lat`, `lon`."
   ]
  },
  {
   "cell_type": "code",
   "execution_count": null,
   "id": "117b6e1e",
   "metadata": {},
   "outputs": [],
   "source": [
    "# 👉 Twój kod tutaj\n"
   ]
  },
  {
   "cell_type": "markdown",
   "id": "bd45fbb1",
   "metadata": {},
   "source": [
    "## Zadanie 6: Filtrowanie value > 1.5\n",
    "\n",
    "Porównaj czas filtrowania.\n",
    "\n",
    "**Wskazówki:**\n",
    "- `.shape` / `.height`"
   ]
  },
  {
   "cell_type": "code",
   "execution_count": null,
   "id": "6feb89cc",
   "metadata": {},
   "outputs": [],
   "source": [
    "# 👉 Twój kod tutaj\n"
   ]
  },
  {
   "cell_type": "markdown",
   "id": "dda221c7",
   "metadata": {},
   "source": [
    "## Zadanie 7: Sortowanie po value desc\n",
    "\n",
    "Zmierz czas sortowania całego DataFrame.\n",
    "\n",
    "**Wskazówki:**\n",
    "- Pandas `.sort_values()` vs Polars `.sort()`"
   ]
  },
  {
   "cell_type": "code",
   "execution_count": null,
   "id": "10c0b8d5",
   "metadata": {},
   "outputs": [],
   "source": [
    "# 👉 Twój kod tutaj\n"
   ]
  },
  {
   "cell_type": "markdown",
   "id": "6b11044f",
   "metadata": {},
   "source": [
    "## Zadanie 8: Rolling mean (okno 5)\n",
    "\n",
    "Porównaj rolling mean w Pandas i Polars.\n",
    "\n",
    "**Wskazówki:**\n",
    "- Pandas `.rolling(5).mean()`, Polars `.rolling_mean()`"
   ]
  },
  {
   "cell_type": "code",
   "execution_count": null,
   "id": "aa820509",
   "metadata": {},
   "outputs": [],
   "source": [
    "# 👉 Twój kod tutaj\n"
   ]
  }
 ],
 "metadata": {
  "language_info": {
   "name": "python"
  }
 },
 "nbformat": 4,
 "nbformat_minor": 5
}
