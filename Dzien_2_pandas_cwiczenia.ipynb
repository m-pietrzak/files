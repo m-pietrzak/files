{
 "cells": [
  {
   "cell_type": "markdown",
   "id": "8ad13113",
   "metadata": {},
   "source": [
    "# Ćwiczenia praktyczne – Łączenie i analiza danych w pandas\n",
    "\n",
    "Ten zeszyt zawiera **samodzielne zadania** inspirowane pracą z wieloma arkuszami w Excelu, ale wykonywane w bibliotece **pandas**.\n",
    "\n",
    "> **Jak pracować?**\n",
    "> 1. Uruchom kolejno komórki z kodem.\n",
    "> 2. W miejscach oznaczonych `# TODO` uzupełnij brakujące linie.\n",
    "> 3. Skorzystaj z podpowiedzi w sekcji **Wskazówka**.\n",
    "> 4. Sprawdź wynik przy pomocy `head()`, `shape`, `describe()`.\n",
    "\n",
    "---"
   ]
  },
  {
   "cell_type": "markdown",
   "id": "ae87ea2b",
   "metadata": {},
   "source": [
    "## 1. Przygotowanie środowiska i przykładowych danych"
   ]
  },
  {
   "cell_type": "code",
   "execution_count": null,
   "id": "cef43cfa",
   "metadata": {},
   "outputs": [],
   "source": [
    "import pandas as pd\n",
    "import numpy as np\n",
    "\n",
    "np.random.seed(42)\n",
    "\n",
    "# Tabela Customers\n",
    "customers_df = pd.DataFrame({\n",
    "    'customer_id': range(1, 11),\n",
    "    'customer_name': ['Klient_'+str(i) for i in range(1, 11)],\n",
    "    'country': np.random.choice(['Polska', 'Niemcy', 'Francja', 'Hiszpania'], size=10)\n",
    "})\n",
    "\n",
    "# Tabela Products\n",
    "products_df = pd.DataFrame({\n",
    "    'product_id': range(101, 121),\n",
    "    'product_name': [f'Produkt_{i}' for i in range(101, 121)],\n",
    "    'category': np.random.choice(['Electronics', 'Home', 'Toys', 'Books'], size=20),\n",
    "    'unit_price': np.random.uniform(5, 200, size=20).round(2)\n",
    "})\n",
    "\n",
    "# Tabela Orders\n",
    "dates = pd.date_range('2024-01-01', '2024-12-31', freq='D')\n",
    "orders_df = pd.DataFrame({\n",
    "    'order_id': range(1001, 1101),\n",
    "    'customer_id': np.random.choice(customers_df['customer_id'], size=100),\n",
    "    'order_date': np.random.choice(dates, size=100),\n",
    "    'product_id': np.random.choice(products_df['product_id'], size=100),\n",
    "    'quantity': np.random.randint(1, 5, size=100)\n",
    "})\n",
    "\n",
    "# Tabela Returns (losowy podzbiór zamówień)\n",
    "returned_orders = np.random.choice(orders_df['order_id'], size=15, replace=False)\n",
    "returns_df = pd.DataFrame({\n",
    "    'order_id': returned_orders,\n",
    "    'return_date': pd.to_datetime(np.random.choice(pd.date_range('2024-02-01', '2025-01-31'), size=15)),\n",
    "    'reason': np.random.choice(['Damaged', 'Wrong Item', 'No Longer Needed'], size=15)\n",
    "})\n",
    "\n",
    "# Podgląd danych\n",
    "for name, df in [('Customers', customers_df),\n",
    "                 ('Products', products_df.head()),\n",
    "                 ('Orders', orders_df.head()),\n",
    "                 ('Returns', returns_df.head())]:\n",
    "    print(f\"--- {name} ---\")\n",
    "    display(df.head())"
   ]
  },
  {
   "cell_type": "markdown",
   "id": "e8778f7f",
   "metadata": {},
   "source": [
    "## 2. Ćwiczenie 1 – Łączenie zamówień z produktami\n",
    "Połącz **orders_df** z **products_df** tak, aby uzyskać pełną tabelę z nazwą produktu, kategorią i ceną jednostkową. Następnie oblicz nową kolumnę `line_total`, czyli *quantity × unit_price*.\n",
    "\n",
    "**Wskazówka:** Użyj `pd.merge()` na kolumnie `product_id`, a potem prostej operacji arytmetycznej."
   ]
  },
  {
   "cell_type": "code",
   "execution_count": null,
   "id": "41a97d38",
   "metadata": {},
   "outputs": [],
   "source": [
    "# TODO: scal orders_df z products_df\n",
    "orders_products_df = (\n",
    "    orders_df\n",
    "    # .merge(...)\n",
    ")\n",
    "\n",
    "# TODO: dodaj kolumnę line_total\n",
    "# orders_products_df['line_total'] = ...\n",
    "\n",
    "orders_products_df.head()"
   ]
  },
  {
   "cell_type": "markdown",
   "id": "c435def7",
   "metadata": {},
   "source": [
    "## 3. Ćwiczenie 2 – Przychód per kraj\n",
    "Dołącz dane klientów, aby każdemu zamówieniu przypisać kraj. Następnie oblicz **łączny przychód** (suma `line_total`) dla każdego kraju.\n",
    "\n",
    "**Wskazówka:**\n",
    "1. Najpierw scal wynik z ćw. 1 z **customers_df** (`customer_id`).\n",
    "2. Następnie skorzystaj z `groupby('country')['line_total'].sum()`.\n",
    "3. Posortuj malejąco."
   ]
  },
  {
   "cell_type": "code",
   "execution_count": null,
   "id": "09448327",
   "metadata": {},
   "outputs": [],
   "source": [
    "# TODO: wynik z ćw. 1 + customers_df\n",
    "orders_full_df = (\n",
    "    orders_products_df\n",
    "    # .merge(...)\n",
    ")\n",
    "\n",
    "# TODO: agregacja przychodu per kraj\n",
    "# revenue_by_country = ...\n",
    "\n",
    "orders_full_df.head()\n",
    "# revenue_by_country"
   ]
  },
  {
   "cell_type": "markdown",
   "id": "253254ef",
   "metadata": {},
   "source": [
    "## 4. Ćwiczenie 3 – Tabela przestawna\n",
    "Stwórz **pivot table**, w której wierszami będą **miesiące** (na podstawie `order_date`), kolumnami **kategorie produktów**, a wartościami **łączna sprzedaż** (`line_total`). Dodaj marginesy (kolumnę i wiersz „Total”).\n",
    "\n",
    "**Wskazówka:**\n",
    "* Wydobądź miesiąc: `orders_full_df['order_month'] = orders_full_df['order_date'].dt.to_period('M')`.\n",
    "* Użyj `pd.pivot_table()` z `aggfunc='sum'`, `margins=True`."
   ]
  },
  {
   "cell_type": "code",
   "execution_count": null,
   "id": "b02fdb68",
   "metadata": {},
   "outputs": [],
   "source": [
    "# TODO: dodaj kolumnę order_month\n",
    "# orders_full_df['order_month'] = ...\n",
    "\n",
    "# TODO: pivot table\n",
    "# sales_pivot = pd.pivot_table(...)\n",
    "\n",
    "# sales_pivot.head()"
   ]
  },
  {
   "cell_type": "markdown",
   "id": "ba577367",
   "metadata": {},
   "source": [
    "## 5. Ćwiczenie 4 – Top 3 klientów\n",
    "Znajdź trzech klientów, którzy wygenerowali **najwyższy łączny przychód** w 2024 roku.\n",
    "\n",
    "**Wskazówka:**\n",
    "* Skorzystaj z `groupby('customer_name')['line_total'].sum()` i `nlargest(3)`."
   ]
  },
  {
   "cell_type": "code",
   "execution_count": null,
   "id": "17aac107",
   "metadata": {},
   "outputs": [],
   "source": [
    "# TODO: oblicz przychód per klient\n",
    "# top_customers = ...\n",
    "\n",
    "# top_customers"
   ]
  },
  {
   "cell_type": "markdown",
   "id": "85519fe9",
   "metadata": {},
   "source": [
    "## 6. Ćwiczenie 5 – Wskaźnik zwrotów\n",
    "Policz **procent** zamówień, które zostały zwrócone, zarówno w skali całej firmy, jak i dla każdej kategorii produktu.\n",
    "\n",
    "**Wskazówka:**\n",
    "1. Ustal zestaw `order_id` zwróconych zamówień (`returns_df['order_id']`).\n",
    "2. Utwórz kolumnę `is_returned` w tabeli z ćw. 1 (`orders_products_df['order_id'].isin(...)`).\n",
    "3. a) Całkowity % zwrotów: średnia kolumny `is_returned` × 100.\n",
    "   b) % zwrotów per kategoria: `groupby('category')['is_returned'].mean()*100`."
   ]
  },
  {
   "cell_type": "code",
   "execution_count": null,
   "id": "6c0dc7f4",
   "metadata": {},
   "outputs": [],
   "source": [
    "# TODO: dodaj kolumnę is_returned\n",
    "# orders_products_df['is_returned'] = ...\n",
    "\n",
    "# TODO: procent zwrotów globalnie\n",
    "# return_rate_all = ...\n",
    "\n",
    "# TODO: procent zwrotów per kategoria\n",
    "# return_rate_by_cat = ...\n",
    "\n",
    "# return_rate_all, return_rate_by_cat"
   ]
  },
  {
   "cell_type": "markdown",
   "id": "9c7b0d26",
   "metadata": {},
   "source": [
    "## 7. Ćwiczenie 6 – Eksport wyników\n",
    "Zapisz pivot table z ćw. 3 do pliku **CSV** i **Excel**:\n",
    "* plik `sales_pivot.csv` (bez indeksu),\n",
    "* plik `sales_pivot.xlsx` (arkusz \"SalesByMonth\").\n",
    "\n",
    "**Wskazówka:**\n",
    "* `to_csv('ścieżka', index=False)`\n",
    "* `to_excel('ścieżka', sheet_name='SalesByMonth')`."
   ]
  },
  {
   "cell_type": "code",
   "execution_count": null,
   "id": "bb35e06a",
   "metadata": {},
   "outputs": [],
   "source": [
    "# TODO: zapisz pliki\n",
    "# csv_path = '/mnt/data/sales_pivot.csv'\n",
    "# excel_path = '/mnt/data/sales_pivot.xlsx'\n",
    "\n",
    "# sales_pivot.to_csv(...)\n",
    "# sales_pivot.to_excel(...)\n",
    "\n"
   ]
  }
 ],
 "metadata": {
  "kernelspec": {
   "display_name": "Kurs_Maj25",
   "language": "python",
   "name": "python3"
  },
  "language_info": {
   "name": "python",
   "version": "3.9.21"
  }
 },
 "nbformat": 4,
 "nbformat_minor": 5
}
